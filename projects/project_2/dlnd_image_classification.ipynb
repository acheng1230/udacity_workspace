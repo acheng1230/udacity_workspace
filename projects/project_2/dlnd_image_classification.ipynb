{
 "cells": [
  {
   "cell_type": "markdown",
   "metadata": {
    "collapsed": true
   },
   "source": [
    "# Image Classification\n",
    "In this project, you'll classify images from the [CIFAR-10 dataset](https://www.cs.toronto.edu/~kriz/cifar.html).  The dataset consists of airplanes, dogs, cats, and other objects. You'll preprocess the images, then train a convolutional neural network on all the samples. The images need to be normalized and the labels need to be one-hot encoded.  You'll get to apply what you learned and build a convolutional, max pooling, dropout, and fully connected layers.  At the end, you'll get to see your neural network's predictions on the sample images.\n",
    "## Get the Data\n",
    "Run the following cell to download the [CIFAR-10 dataset for python](https://www.cs.toronto.edu/~kriz/cifar-10-python.tar.gz)."
   ]
  },
  {
   "cell_type": "code",
   "execution_count": 1,
   "metadata": {},
   "outputs": [
    {
     "name": "stderr",
     "output_type": "stream",
     "text": [
      "CIFAR-10 Dataset: 171MB [01:23, 2.05MB/s]                              \n"
     ]
    },
    {
     "name": "stdout",
     "output_type": "stream",
     "text": [
      "All files found!\n"
     ]
    }
   ],
   "source": [
    "\"\"\"\n",
    "DON'T MODIFY ANYTHING IN THIS CELL THAT IS BELOW THIS LINE\n",
    "\"\"\"\n",
    "from urllib.request import urlretrieve\n",
    "from os.path import isfile, isdir\n",
    "from tqdm import tqdm\n",
    "import problem_unittests as tests\n",
    "import tarfile\n",
    "\n",
    "cifar10_dataset_folder_path = 'cifar-10-batches-py'\n",
    "\n",
    "# Use Floyd's cifar-10 dataset if present\n",
    "floyd_cifar10_location = '/input/cifar-10/python.tar.gz'\n",
    "if isfile(floyd_cifar10_location):\n",
    "    tar_gz_path = floyd_cifar10_location\n",
    "else:\n",
    "    tar_gz_path = 'cifar-10-python.tar.gz'\n",
    "\n",
    "class DLProgress(tqdm):\n",
    "    last_block = 0\n",
    "\n",
    "    def hook(self, block_num=1, block_size=1, total_size=None):\n",
    "        self.total = total_size\n",
    "        self.update((block_num - self.last_block) * block_size)\n",
    "        self.last_block = block_num\n",
    "\n",
    "if not isfile(tar_gz_path):\n",
    "    with DLProgress(unit='B', unit_scale=True, miniters=1, desc='CIFAR-10 Dataset') as pbar:\n",
    "        urlretrieve(\n",
    "            'https://www.cs.toronto.edu/~kriz/cifar-10-python.tar.gz',\n",
    "            tar_gz_path,\n",
    "            pbar.hook)\n",
    "\n",
    "if not isdir(cifar10_dataset_folder_path):\n",
    "    with tarfile.open(tar_gz_path) as tar:\n",
    "        tar.extractall()\n",
    "        tar.close()\n",
    "\n",
    "\n",
    "tests.test_folder_path(cifar10_dataset_folder_path)"
   ]
  },
  {
   "cell_type": "markdown",
   "metadata": {},
   "source": [
    "## Explore the Data\n",
    "The dataset is broken into batches to prevent your machine from running out of memory.  The CIFAR-10 dataset consists of 5 batches, named `data_batch_1`, `data_batch_2`, etc.. Each batch contains the labels and images that are one of the following:\n",
    "* airplane\n",
    "* automobile\n",
    "* bird\n",
    "* cat\n",
    "* deer\n",
    "* dog\n",
    "* frog\n",
    "* horse\n",
    "* ship\n",
    "* truck\n",
    "\n",
    "Understanding a dataset is part of making predictions on the data.  Play around with the code cell below by changing the `batch_id` and `sample_id`. The `batch_id` is the id for a batch (1-5). The `sample_id` is the id for a image and label pair in the batch.\n",
    "\n",
    "Ask yourself \"What are all possible labels?\", \"What is the range of values for the image data?\", \"Are the labels in order or random?\".  Answers to questions like these will help you preprocess the data and end up with better predictions."
   ]
  },
  {
   "cell_type": "code",
   "execution_count": 5,
   "metadata": {},
   "outputs": [
    {
     "name": "stdout",
     "output_type": "stream",
     "text": [
      "\n",
      "Stats of batch 3:\n",
      "Samples: 10000\n",
      "Label Counts: {0: 994, 1: 1042, 2: 965, 3: 997, 4: 990, 5: 1029, 6: 978, 7: 1015, 8: 961, 9: 1029}\n",
      "First 20 Labels: [8, 5, 0, 6, 9, 2, 8, 3, 6, 2, 7, 4, 6, 9, 0, 0, 7, 3, 7, 2]\n",
      "\n",
      "Example of Image 1:\n",
      "Image - Min Value: 15 Max Value: 249\n",
      "Image - Shape: (32, 32, 3)\n",
      "Label - Label Id: 5 Name: dog\n"
     ]
    },
    {
     "data": {
      "image/png": "[encoded data removed]",
      "text/plain": [
       "<matplotlib.figure.Figure at 0x11b5beb38>"
      ]
     },
     "metadata": {
      "image/png": {
       "height": 250,
       "width": 253
      }
     },
     "output_type": "display_data"
    }
   ],
   "source": [
    "%matplotlib inline\n",
    "%config InlineBackend.figure_format = 'retina'\n",
    "\n",
    "import helper\n",
    "import numpy as np\n",
    "\n",
    "# Explore the dataset\n",
    "batch_id = 3\n",
    "sample_id = 1\n",
    "helper.display_stats(cifar10_dataset_folder_path, batch_id, sample_id)"
   ]
  },
  {
   "cell_type": "markdown",
   "metadata": {},
   "source": [
    "## Implement Preprocess Functions\n",
    "### Normalize\n",
    "In the cell below, implement the `normalize` function to take in image data, `x`, and return it as a normalized Numpy array. The values should be in the range of 0 to 1, inclusive.  The return object should be the same shape as `x`."
   ]
  },
  {
   "cell_type": "code",
   "execution_count": 6,
   "metadata": {},
   "outputs": [
    {
     "name": "stdout",
     "output_type": "stream",
     "text": [
      "Tests Passed\n"
     ]
    }
   ],
   "source": [
    "def normalize(x):\n",
    "    \"\"\"\n",
    "    Normalize a list of sample image data in the range of 0 to 1\n",
    "    : x: List of image data.  The image shape is (32, 32, 3)\n",
    "    : return: Numpy array of normalize data\n",
    "    \"\"\"\n",
    "    # TODO: Implement Function\n",
    "    return np.array(x) / 255\n",
    "\n",
    "\n",
    "\"\"\"\n",
    "DON'T MODIFY ANYTHING IN THIS CELL THAT IS BELOW THIS LINE\n",
    "\"\"\"\n",
    "tests.test_normalize(normalize)"
   ]
  },
  {
   "cell_type": "markdown",
   "metadata": {},
   "source": [
    "### One-hot encode\n",
    "Just like the previous code cell, you'll be implementing a function for preprocessing.  This time, you'll implement the `one_hot_encode` function. The input, `x`, are a list of labels.  Implement the function to return the list of labels as One-Hot encoded Numpy array.  The possible values for labels are 0 to 9. The one-hot encoding function should return the same encoding for each value between each call to `one_hot_encode`.  Make sure to save the map of encodings outside the function.\n",
    "\n",
    "Hint: Don't reinvent the wheel."
   ]
  },
  {
   "cell_type": "code",
   "execution_count": 26,
   "metadata": {},
   "outputs": [
    {
     "name": "stdout",
     "output_type": "stream",
     "text": [
      "Tests Passed\n"
     ]
    }
   ],
   "source": [
    "def one_hot_encode(x):\n",
    "    \"\"\"\n",
    "    One hot encode a list of sample labels. Return a one-hot encoded vector for each label.\n",
    "    : x: List of sample Labels\n",
    "    : return: Numpy array of one-hot encoded labels\n",
    "    \"\"\"\n",
    "    # TODO: Implement Function\n",
    "    labels = np.eye(10)[x]\n",
    "    return labels\n",
    "\n",
    "\n",
    "\"\"\"\n",
    "DON'T MODIFY ANYTHING IN THIS CELL THAT IS BELOW THIS LINE\n",
    "\"\"\"\n",
    "tests.test_one_hot_encode(one_hot_encode)"
   ]
  },
  {
   "cell_type": "markdown",
   "metadata": {},
   "source": [
    "### Randomize Data\n",
    "As you saw from exploring the data above, the order of the samples are randomized.  It doesn't hurt to randomize it again, but you don't need to for this dataset."
   ]
  },
  {
   "cell_type": "markdown",
   "metadata": {},
   "source": [
    "## Preprocess all the data and save it\n",
    "Running the code cell below will preprocess all the CIFAR-10 data and save it to file. The code below also uses 10% of the training data for validation."
   ]
  },
  {
   "cell_type": "code",
   "execution_count": 27,
   "metadata": {
    "collapsed": true
   },
   "outputs": [],
   "source": [
    "\"\"\"\n",
    "DON'T MODIFY ANYTHING IN THIS CELL\n",
    "\"\"\"\n",
    "# Preprocess Training, Validation, and Testing Data\n",
    "helper.preprocess_and_save_data(cifar10_dataset_folder_path, normalize, one_hot_encode)"
   ]
  },
  {
   "cell_type": "markdown",
   "metadata": {},
   "source": [
    "# Check Point\n",
    "This is your first checkpoint.  If you ever decide to come back to this notebook or have to restart the notebook, you can start from here.  The preprocessed data has been saved to disk."
   ]
  },
  {
   "cell_type": "code",
   "execution_count": 28,
   "metadata": {
    "collapsed": true
   },
   "outputs": [],
   "source": [
    "\"\"\"\n",
    "DON'T MODIFY ANYTHING IN THIS CELL\n",
    "\"\"\"\n",
    "import pickle\n",
    "import problem_unittests as tests\n",
    "import helper\n",
    "\n",
    "# Load the Preprocessed Validation data\n",
    "valid_features, valid_labels = pickle.load(open('preprocess_validation.p', mode='rb'))"
   ]
  },
  {
   "cell_type": "markdown",
   "metadata": {},
   "source": [
    "## Build the network\n",
    "For the neural network, you'll build each layer into a function.  Most of the code you've seen has been outside of functions. To test your code more thoroughly, we require that you put each layer in a function.  This allows us to give you better feedback and test for simple mistakes using our unittests before you submit your project.\n",
    "\n",
    ">**Note:** If you're finding it hard to dedicate enough time for this course each week, we've provided a small shortcut to this part of the project. In the next couple of problems, you'll have the option to use classes from the [TensorFlow Layers](https://www.tensorflow.org/api_docs/python/tf/layers) or [TensorFlow Layers (contrib)](https://www.tensorflow.org/api_guides/python/contrib.layers) packages to build each layer, except the layers you build in the \"Convolutional and Max Pooling Layer\" section.  TF Layers is similar to Keras's and TFLearn's abstraction to layers, so it's easy to pickup.\n",
    "\n",
    ">However, if you would like to get the most out of this course, try to solve all the problems _without_ using anything from the TF Layers packages. You **can** still use classes from other packages that happen to have the same name as ones you find in TF Layers! For example, instead of using the TF Layers version of the `conv2d` class, [tf.layers.conv2d](https://www.tensorflow.org/api_docs/python/tf/layers/conv2d), you would want to use the TF Neural Network version of `conv2d`, [tf.nn.conv2d](https://www.tensorflow.org/api_docs/python/tf/nn/conv2d). \n",
    "\n",
    "Let's begin!\n",
    "\n",
    "### Input\n",
    "The neural network needs to read the image data, one-hot encoded labels, and dropout keep probability. Implement the following functions\n",
    "* Implement `neural_net_image_input`\n",
    " * Return a [TF Placeholder](https://www.tensorflow.org/api_docs/python/tf/placeholder)\n",
    " * Set the shape using `image_shape` with batch size set to `None`.\n",
    " * Name the TensorFlow placeholder \"x\" using the TensorFlow `name` parameter in the [TF Placeholder](https://www.tensorflow.org/api_docs/python/tf/placeholder).\n",
    "* Implement `neural_net_label_input`\n",
    " * Return a [TF Placeholder](https://www.tensorflow.org/api_docs/python/tf/placeholder)\n",
    " * Set the shape using `n_classes` with batch size set to `None`.\n",
    " * Name the TensorFlow placeholder \"y\" using the TensorFlow `name` parameter in the [TF Placeholder](https://www.tensorflow.org/api_docs/python/tf/placeholder).\n",
    "* Implement `neural_net_keep_prob_input`\n",
    " * Return a [TF Placeholder](https://www.tensorflow.org/api_docs/python/tf/placeholder) for dropout keep probability.\n",
    " * Name the TensorFlow placeholder \"keep_prob\" using the TensorFlow `name` parameter in the [TF Placeholder](https://www.tensorflow.org/api_docs/python/tf/placeholder).\n",
    "\n",
    "These names will be used at the end of the project to load your saved model.\n",
    "\n",
    "Note: `None` for shapes in TensorFlow allow for a dynamic size."
   ]
  },
  {
   "cell_type": "code",
   "execution_count": 32,
   "metadata": {},
   "outputs": [
    {
     "name": "stdout",
     "output_type": "stream",
     "text": [
      "Image Input Tests Passed.\n",
      "Label Input Tests Passed.\n",
      "Keep Prob Tests Passed.\n"
     ]
    }
   ],
   "source": [
    "import tensorflow as tf\n",
    "\n",
    "def neural_net_image_input(image_shape):\n",
    "    \"\"\"\n",
    "    Return a Tensor for a batch of image input\n",
    "    : image_shape: Shape of the images\n",
    "    : return: Tensor for image input.\n",
    "    \"\"\"\n",
    "    # TODO: Implement Function\n",
    "    return tf.placeholder(tf.float32,\n",
    "                             shape=(None, *image_shape),\n",
    "                             name='x')\n",
    "\n",
    "\n",
    "def neural_net_label_input(n_classes):\n",
    "    \"\"\"\n",
    "    Return a Tensor for a batch of label input\n",
    "    : n_classes: Number of classes\n",
    "    : return: Tensor for label input.\n",
    "    \"\"\"\n",
    "    # TODO: Implement Function\n",
    "    return tf.placeholder(tf.float32,\n",
    "                             shape=(None, n_classes),\n",
    "                             name='y')\n",
    "\n",
    "\n",
    "def neural_net_keep_prob_input():\n",
    "    \"\"\"\n",
    "    Return a Tensor for keep probability\n",
    "    : return: Tensor for keep probability.\n",
    "    \"\"\"\n",
    "    # TODO: Implement Function\n",
    "    return tf.placeholder(tf.float32,\n",
    "                             name='keep_prob')\n",
    "\n",
    "\n",
    "\"\"\"\n",
    "DON'T MODIFY ANYTHING IN THIS CELL THAT IS BELOW THIS LINE\n",
    "\"\"\"\n",
    "tf.reset_default_graph()\n",
    "tests.test_nn_image_inputs(neural_net_image_input)\n",
    "tests.test_nn_label_inputs(neural_net_label_input)\n",
    "tests.test_nn_keep_prob_inputs(neural_net_keep_prob_input)"
   ]
  },
  {
   "cell_type": "markdown",
   "metadata": {},
   "source": [
    "### Convolution and Max Pooling Layer\n",
    "Convolution layers have a lot of success with images. For this code cell, you should implement the function `conv2d_maxpool` to apply convolution then max pooling:\n",
    "* Create the weight and bias using `conv_ksize`, `conv_num_outputs` and the shape of `x_tensor`.\n",
    "* Apply a convolution to `x_tensor` using weight and `conv_strides`.\n",
    " * We recommend you use same padding, but you're welcome to use any padding.\n",
    "* Add bias\n",
    "* Add a nonlinear activation to the convolution.\n",
    "* Apply Max Pooling using `pool_ksize` and `pool_strides`.\n",
    " * We recommend you use same padding, but you're welcome to use any padding.\n",
    "\n",
    "**Note:** You **can't** use [TensorFlow Layers](https://www.tensorflow.org/api_docs/python/tf/layers) or [TensorFlow Layers (contrib)](https://www.tensorflow.org/api_guides/python/contrib.layers) for **this** layer, but you can still use TensorFlow's [Neural Network](https://www.tensorflow.org/api_docs/python/tf/nn) package. You may still use the shortcut option for all the **other** layers."
   ]
  },
  {
   "cell_type": "code",
   "execution_count": 34,
   "metadata": {},
   "outputs": [
    {
     "name": "stdout",
     "output_type": "stream",
     "text": [
      "Tests Passed\n"
     ]
    }
   ],
   "source": [
    "def conv2d_maxpool(x_tensor, conv_num_outputs, conv_ksize, conv_strides, pool_ksize, pool_strides):\n",
    "    \"\"\"\n",
    "    Apply convolution then max pooling to x_tensor\n",
    "    :param x_tensor: TensorFlow Tensor\n",
    "    :param conv_num_outputs: Number of outputs for the convolutional layer\n",
    "    :param conv_ksize: kernal size 2-D Tuple for the convolutional layer\n",
    "    :param conv_strides: Stride 2-D Tuple for convolution\n",
    "    :param pool_ksize: kernal size 2-D Tuple for pool\n",
    "    :param pool_strides: Stride 2-D Tuple for pool\n",
    "    : return: A tensor that represents convolution and max pooling of x_tensor\n",
    "    \"\"\"\n",
    "    # TODO: Implement Function\n",
    "    \n",
    "    # Weights and bias\n",
    "    weights = tf.Variable(tf.truncated_normal([conv_ksize[0], \n",
    "                                               conv_ksize[1], \n",
    "                                               x_tensor.get_shape()[3].value, \n",
    "                                               conv_num_outputs], \n",
    "                                               stddev=0.1))\n",
    "    \n",
    "    bias = tf.Variable(tf.zeros(conv_num_outputs))\n",
    "    \n",
    "    # Apply convolution\n",
    "    conv_layer = tf.nn.conv2d(x_tensor, \n",
    "                                  weights, \n",
    "                                  strides= [1, conv_strides[0], conv_strides[1], 1], \n",
    "                                  padding='SAME')\n",
    "    \n",
    "    # Add bias\n",
    "    conv_layer = tf.nn.bias_add(conv_layer, bias)\n",
    "    \n",
    "    # Apply activation function\n",
    "    conv_layer = tf.nn.relu(conv_layer)\n",
    "    \n",
    "    # Max pooling\n",
    "    conv_layer = tf.nn.max_pool(\n",
    "        conv_layer,\n",
    "        ksize=[1, pool_ksize[0], pool_ksize[1], 1],\n",
    "        strides=[1, pool_strides[0], pool_strides[1], 1],\n",
    "        padding='SAME')\n",
    "    \n",
    "    \n",
    "    return conv_layer \n",
    "\n",
    "\n",
    "\"\"\"\n",
    "DON'T MODIFY ANYTHING IN THIS CELL THAT IS BELOW THIS LINE\n",
    "\"\"\"\n",
    "tests.test_con_pool(conv2d_maxpool)"
   ]
  },
  {
   "cell_type": "markdown",
   "metadata": {},
   "source": [
    "### Flatten Layer\n",
    "Implement the `flatten` function to change the dimension of `x_tensor` from a 4-D tensor to a 2-D tensor.  The output should be the shape (*Batch Size*, *Flattened Image Size*). Shortcut option: you can use classes from the [TensorFlow Layers](https://www.tensorflow.org/api_docs/python/tf/layers) or [TensorFlow Layers (contrib)](https://www.tensorflow.org/api_guides/python/contrib.layers) packages for this layer. For more of a challenge, only use other TensorFlow packages."
   ]
  },
  {
   "cell_type": "code",
   "execution_count": 35,
   "metadata": {},
   "outputs": [
    {
     "name": "stdout",
     "output_type": "stream",
     "text": [
      "Tests Passed\n"
     ]
    }
   ],
   "source": [
    "def flatten(x_tensor):\n",
    "    \"\"\"\n",
    "    Flatten x_tensor to (Batch Size, Flattened Image Size)\n",
    "    : x_tensor: A tensor of size (Batch Size, ...), where ... are the image dimensions.\n",
    "    : return: A tensor of size (Batch Size, Flattened Image Size).\n",
    "    \"\"\"\n",
    "    # TODO: Implement Function\n",
    "    return tf.contrib.layers.flatten(x_tensor)\n",
    "\n",
    "\n",
    "\"\"\"\n",
    "DON'T MODIFY ANYTHING IN THIS CELL THAT IS BELOW THIS LINE\n",
    "\"\"\"\n",
    "tests.test_flatten(flatten)"
   ]
  },
  {
   "cell_type": "markdown",
   "metadata": {},
   "source": [
    "### Fully-Connected Layer\n",
    "Implement the `fully_conn` function to apply a fully connected layer to `x_tensor` with the shape (*Batch Size*, *num_outputs*). Shortcut option: you can use classes from the [TensorFlow Layers](https://www.tensorflow.org/api_docs/python/tf/layers) or [TensorFlow Layers (contrib)](https://www.tensorflow.org/api_guides/python/contrib.layers) packages for this layer. For more of a challenge, only use other TensorFlow packages."
   ]
  },
  {
   "cell_type": "code",
   "execution_count": 36,
   "metadata": {},
   "outputs": [
    {
     "name": "stdout",
     "output_type": "stream",
     "text": [
      "Tests Passed\n"
     ]
    }
   ],
   "source": [
    "def fully_conn(x_tensor, num_outputs):\n",
    "    \"\"\"\n",
    "    Apply a fully connected layer to x_tensor using weight and bias\n",
    "    : x_tensor: A 2-D tensor where the first dimension is batch size.\n",
    "    : num_outputs: The number of output that the new tensor should be.\n",
    "    : return: A 2-D tensor where the second dimension is num_outputs.\n",
    "    \"\"\"\n",
    "    # TODO: Implement Function\n",
    "    return tf.contrib.layers.fully_connected(x_tensor, num_outputs, activation_fn=tf.nn.relu)\n",
    "\n",
    "\n",
    "\"\"\"\n",
    "DON'T MODIFY ANYTHING IN THIS CELL THAT IS BELOW THIS LINE\n",
    "\"\"\"\n",
    "tests.test_fully_conn(fully_conn)"
   ]
  },
  {
   "cell_type": "markdown",
   "metadata": {},
   "source": [
    "### Output Layer\n",
    "Implement the `output` function to apply a fully connected layer to `x_tensor` with the shape (*Batch Size*, *num_outputs*). Shortcut option: you can use classes from the [TensorFlow Layers](https://www.tensorflow.org/api_docs/python/tf/layers) or [TensorFlow Layers (contrib)](https://www.tensorflow.org/api_guides/python/contrib.layers) packages for this layer. For more of a challenge, only use other TensorFlow packages.\n",
    "\n",
    "**Note:** Activation, softmax, or cross entropy should **not** be applied to this."
   ]
  },
  {
   "cell_type": "code",
   "execution_count": 37,
   "metadata": {},
   "outputs": [
    {
     "name": "stdout",
     "output_type": "stream",
     "text": [
      "Tests Passed\n"
     ]
    }
   ],
   "source": [
    "def output(x_tensor, num_outputs):\n",
    "    \"\"\"\n",
    "    Apply a output layer to x_tensor using weight and bias\n",
    "    : x_tensor: A 2-D tensor where the first dimension is batch size.\n",
    "    : num_outputs: The number of output that the new tensor should be.\n",
    "    : return: A 2-D tensor where the second dimension is num_outputs.\n",
    "    \"\"\"\n",
    "    # TODO: Implement Function\n",
    "    return tf.contrib.layers.fully_connected(x_tensor, num_outputs, activation_fn=None)\n",
    "\n",
    "\n",
    "\"\"\"\n",
    "DON'T MODIFY ANYTHING IN THIS CELL THAT IS BELOW THIS LINE\n",
    "\"\"\"\n",
    "tests.test_output(output)"
   ]
  },
  {
   "cell_type": "markdown",
   "metadata": {},
   "source": [
    "### Create Convolutional Model\n",
    "Implement the function `conv_net` to create a convolutional neural network model. The function takes in a batch of images, `x`, and outputs logits.  Use the layers you created above to create this model:\n",
    "\n",
    "* Apply 1, 2, or 3 Convolution and Max Pool layers\n",
    "* Apply a Flatten Layer\n",
    "* Apply 1, 2, or 3 Fully Connected Layers\n",
    "* Apply an Output Layer\n",
    "* Return the output\n",
    "* Apply [TensorFlow's Dropout](https://www.tensorflow.org/api_docs/python/tf/nn/dropout) to one or more layers in the model using `keep_prob`. "
   ]
  },
  {
   "cell_type": "code",
   "execution_count": 39,
   "metadata": {},
   "outputs": [
    {
     "name": "stdout",
     "output_type": "stream",
     "text": [
      "Neural Network Built!\n"
     ]
    }
   ],
   "source": [
    "def conv_net(x, keep_prob):\n",
    "    \"\"\"\n",
    "    Create a convolutional neural network model\n",
    "    : x: Placeholder tensor that holds image data.\n",
    "    : keep_prob: Placeholder tensor that hold dropout keep probability.\n",
    "    : return: Tensor that represents logits\n",
    "    \"\"\"\n",
    "    # Conv layer variables\n",
    "    l1_conv_num_outputs = 32\n",
    "    l1_conv_ksize = [3,3]\n",
    "    l1_conv_strides = [1,1]\n",
    "    l1_pool_ksize = [2,2]\n",
    "    l1_pool_strides = [2,2]\n",
    "    \n",
    "    l2_conv_num_outputs = 32\n",
    "    l2_conv_ksize = [3,3]\n",
    "    l2_conv_strides = [1,1]\n",
    "    l2_pool_ksize = [2,2]\n",
    "    l2_pool_strides = [2,2]\n",
    "    \n",
    "    final_conv_num_outputs = 32\n",
    "    final_conv_ksize = [3, 3]\n",
    "    final_conv_strides = [1, 1]\n",
    "    final_pool_ksize = [2, 2]\n",
    "    final_pool_strides = [2, 2]\n",
    "    \n",
    "    # Output layer variables\n",
    "    conn_l1_num_outputs = 1024\n",
    "    conn_final_num_outputs = 64\n",
    "    \n",
    "    # TODO: Apply 1, 2, or 3 Convolution and Max Pool layers\n",
    "    #    Play around with different number of outputs, kernel size and stride\n",
    "    # Function Definition from Above:\n",
    "    #    conv2d_maxpool(x_tensor, conv_num_outputs, conv_ksize, conv_strides, pool_ksize, pool_strides)\n",
    "    c1 = conv2d_maxpool(x, \n",
    "                        l1_conv_num_outputs,\n",
    "                        l1_conv_ksize,\n",
    "                        l1_conv_strides,\n",
    "                        l1_pool_ksize,\n",
    "                        l1_pool_strides)\n",
    "    \n",
    "    c2 = conv2d_maxpool(c1, \n",
    "                        l2_conv_num_outputs,\n",
    "                        l2_conv_ksize,\n",
    "                        l2_conv_strides,\n",
    "                        l2_pool_ksize,\n",
    "                        l2_pool_strides)\n",
    "                        \n",
    "    c3 = conv2d_maxpool(c2, \n",
    "                        final_conv_num_outputs,\n",
    "                        final_conv_ksize,\n",
    "                        final_conv_strides,\n",
    "                        final_pool_ksize,\n",
    "                        final_pool_strides)\n",
    "    \n",
    "\n",
    "    # TODO: Apply a Flatten Layer\n",
    "    # Function Definition from Above:\n",
    "    flat_layer = flatten(c3)\n",
    "\n",
    "    # TODO: Apply 1, 2, or 3 Fully Connected Layers\n",
    "    #    Play around with different number of outputs\n",
    "    # Function Definition from Above:\n",
    "    #   fully_conn(x_tensor, num_outputs)\n",
    "    conn_l1 = fully_conn(flat_layer, conn_l1_num_outputs)\n",
    "    conn_11 = tf.nn.dropout(conn_l1, keep_prob)\n",
    "    \n",
    "    conn_final = fully_conn(conn_l1, conn_final_num_outputs)\n",
    "    conn_final = tf.nn.dropout(conn_final, keep_prob)\n",
    "    \n",
    "    # TODO: Apply an Output Layer\n",
    "    #    Set this to the number of classes\n",
    "    # Function Definition from Above:\n",
    "    #   output(x_tensor, num_outputs)\n",
    "    output_layer = output(conn_final, 10)\n",
    "    \n",
    "    \n",
    "    # TODO: return output\n",
    "    return output_layer\n",
    "\n",
    "\n",
    "\"\"\"\n",
    "DON'T MODIFY ANYTHING IN THIS CELL THAT IS BELOW THIS LINE\n",
    "\"\"\"\n",
    "\n",
    "##############################\n",
    "## Build the Neural Network ##\n",
    "##############################\n",
    "\n",
    "# Remove previous weights, bias, inputs, etc..\n",
    "tf.reset_default_graph()\n",
    "\n",
    "# Inputs\n",
    "x = neural_net_image_input((32, 32, 3))\n",
    "y = neural_net_label_input(10)\n",
    "keep_prob = neural_net_keep_prob_input()\n",
    "\n",
    "# Model\n",
    "logits = conv_net(x, keep_prob)\n",
    "\n",
    "# Name logits Tensor, so that is can be loaded from disk after training\n",
    "logits = tf.identity(logits, name='logits')\n",
    "\n",
    "# Loss and Optimizer\n",
    "cost = tf.reduce_mean(tf.nn.softmax_cross_entropy_with_logits(logits=logits, labels=y))\n",
    "optimizer = tf.train.AdamOptimizer().minimize(cost)\n",
    "\n",
    "# Accuracy\n",
    "correct_pred = tf.equal(tf.argmax(logits, 1), tf.argmax(y, 1))\n",
    "accuracy = tf.reduce_mean(tf.cast(correct_pred, tf.float32), name='accuracy')\n",
    "\n",
    "tests.test_conv_net(conv_net)"
   ]
  },
  {
   "cell_type": "markdown",
   "metadata": {},
   "source": [
    "## Train the Neural Network\n",
    "### Single Optimization\n",
    "Implement the function `train_neural_network` to do a single optimization.  The optimization should use `optimizer` to optimize in `session` with a `feed_dict` of the following:\n",
    "* `x` for image input\n",
    "* `y` for labels\n",
    "* `keep_prob` for keep probability for dropout\n",
    "\n",
    "This function will be called for each batch, so `tf.global_variables_initializer()` has already been called.\n",
    "\n",
    "Note: Nothing needs to be returned. This function is only optimizing the neural network."
   ]
  },
  {
   "cell_type": "code",
   "execution_count": 40,
   "metadata": {},
   "outputs": [
    {
     "name": "stdout",
     "output_type": "stream",
     "text": [
      "Tests Passed\n"
     ]
    }
   ],
   "source": [
    "def train_neural_network(session, optimizer, keep_probability, feature_batch, label_batch):\n",
    "    \"\"\"\n",
    "    Optimize the session on a batch of images and labels\n",
    "    : session: Current TensorFlow session\n",
    "    : optimizer: TensorFlow optimizer function\n",
    "    : keep_probability: keep probability\n",
    "    : feature_batch: Batch of Numpy image data\n",
    "    : label_batch: Batch of Numpy label data\n",
    "    \"\"\"\n",
    "    # TODO: Implement Function\n",
    "    session.run(optimizer, feed_dict={x: feature_batch, \n",
    "                                      y: label_batch, \n",
    "                                      keep_prob: keep_probability})\n",
    "\n",
    "\n",
    "\"\"\"\n",
    "DON'T MODIFY ANYTHING IN THIS CELL THAT IS BELOW THIS LINE\n",
    "\"\"\"\n",
    "tests.test_train_nn(train_neural_network)"
   ]
  },
  {
   "cell_type": "markdown",
   "metadata": {},
   "source": [
    "### Show Stats\n",
    "Implement the function `print_stats` to print loss and validation accuracy.  Use the global variables `valid_features` and `valid_labels` to calculate validation accuracy.  Use a keep probability of `1.0` to calculate the loss and validation accuracy."
   ]
  },
  {
   "cell_type": "code",
   "execution_count": 41,
   "metadata": {
    "collapsed": true
   },
   "outputs": [],
   "source": [
    "def print_stats(session, feature_batch, label_batch, cost, accuracy):\n",
    "    \"\"\"\n",
    "    Print information about loss and validation accuracy\n",
    "    : session: Current TensorFlow session\n",
    "    : feature_batch: Batch of Numpy image data\n",
    "    : label_batch: Batch of Numpy label data\n",
    "    : cost: TensorFlow cost function\n",
    "    : accuracy: TensorFlow accuracy function\n",
    "    \"\"\"\n",
    "    # TODO: Implement Function\n",
    "    loss = session.run(cost, feed_dict={\n",
    "        x: feature_batch, \n",
    "        y: label_batch,\n",
    "        keep_prob: 1.0})\n",
    "    \n",
    "    acc = session.run(accuracy, feed_dict={\n",
    "        x: valid_features,\n",
    "        y: valid_labels,\n",
    "        keep_prob: 1.0})\n",
    "    \n",
    "    print(\"Loss: {:>10.4f} Accuracy: {:.6f}\".format(loss, acc))"
   ]
  },
  {
   "cell_type": "markdown",
   "metadata": {},
   "source": [
    "### Hyperparameters\n",
    "Tune the following parameters:\n",
    "* Set `epochs` to the number of iterations until the network stops learning or start overfitting\n",
    "* Set `batch_size` to the highest number that your machine has memory for.  Most people set them to common sizes of memory:\n",
    " * 64\n",
    " * 128\n",
    " * 256\n",
    " * ...\n",
    "* Set `keep_probability` to the probability of keeping a node using dropout"
   ]
  },
  {
   "cell_type": "code",
   "execution_count": 42,
   "metadata": {
    "collapsed": true
   },
   "outputs": [],
   "source": [
    "# TODO: Tune Parameters\n",
    "epochs = 30\n",
    "batch_size = 256\n",
    "keep_probability = 0.5"
   ]
  },
  {
   "cell_type": "markdown",
   "metadata": {},
   "source": [
    "### Train on a Single CIFAR-10 Batch\n",
    "Instead of training the neural network on all the CIFAR-10 batches of data, let's use a single batch. This should save time while you iterate on the model to get a better accuracy.  Once the final validation accuracy is 50% or greater, run the model on all the data in the next section."
   ]
  },
  {
   "cell_type": "code",
   "execution_count": 43,
   "metadata": {},
   "outputs": [
    {
     "name": "stdout",
     "output_type": "stream",
     "text": [
      "Checking the Training on a Single Batch...\n",
      "Epoch  1, CIFAR-10 Batch 1:  Loss:     2.1186 Accuracy: 0.267400\n",
      "Epoch  2, CIFAR-10 Batch 1:  Loss:     1.8993 Accuracy: 0.384600\n",
      "Epoch  3, CIFAR-10 Batch 1:  Loss:     1.6657 Accuracy: 0.430800\n",
      "Epoch  4, CIFAR-10 Batch 1:  Loss:     1.4615 Accuracy: 0.459600\n",
      "Epoch  5, CIFAR-10 Batch 1:  Loss:     1.3638 Accuracy: 0.482600\n",
      "Epoch  6, CIFAR-10 Batch 1:  Loss:     1.2464 Accuracy: 0.473400\n",
      "Epoch  7, CIFAR-10 Batch 1:  Loss:     1.0740 Accuracy: 0.514000\n",
      "Epoch  8, CIFAR-10 Batch 1:  Loss:     0.9857 Accuracy: 0.510800\n",
      "Epoch  9, CIFAR-10 Batch 1:  Loss:     0.9045 Accuracy: 0.528000\n",
      "Epoch 10, CIFAR-10 Batch 1:  Loss:     0.8403 Accuracy: 0.503800\n",
      "Epoch 11, CIFAR-10 Batch 1:  Loss:     0.7447 Accuracy: 0.550800\n",
      "Epoch 12, CIFAR-10 Batch 1:  Loss:     0.6889 Accuracy: 0.555200\n",
      "Epoch 13, CIFAR-10 Batch 1:  Loss:     0.6061 Accuracy: 0.564200\n",
      "Epoch 14, CIFAR-10 Batch 1:  Loss:     0.5494 Accuracy: 0.575800\n",
      "Epoch 15, CIFAR-10 Batch 1:  Loss:     0.5094 Accuracy: 0.565000\n",
      "Epoch 16, CIFAR-10 Batch 1:  Loss:     0.4733 Accuracy: 0.583800\n",
      "Epoch 17, CIFAR-10 Batch 1:  Loss:     0.4538 Accuracy: 0.560600\n",
      "Epoch 18, CIFAR-10 Batch 1:  Loss:     0.4521 Accuracy: 0.578200\n",
      "Epoch 19, CIFAR-10 Batch 1:  Loss:     0.3993 Accuracy: 0.563600\n",
      "Epoch 20, CIFAR-10 Batch 1:  Loss:     0.3744 Accuracy: 0.554000\n",
      "Epoch 21, CIFAR-10 Batch 1:  Loss:     0.3434 Accuracy: 0.571400\n",
      "Epoch 22, CIFAR-10 Batch 1:  Loss:     0.3402 Accuracy: 0.557800\n",
      "Epoch 23, CIFAR-10 Batch 1:  Loss:     0.2477 Accuracy: 0.584800\n",
      "Epoch 24, CIFAR-10 Batch 1:  Loss:     0.2793 Accuracy: 0.556000\n",
      "Epoch 25, CIFAR-10 Batch 1:  Loss:     0.2112 Accuracy: 0.591800\n",
      "Epoch 26, CIFAR-10 Batch 1:  Loss:     0.1686 Accuracy: 0.583800\n",
      "Epoch 27, CIFAR-10 Batch 1:  Loss:     0.1706 Accuracy: 0.588200\n",
      "Epoch 28, CIFAR-10 Batch 1:  Loss:     0.1670 Accuracy: 0.565000\n",
      "Epoch 29, CIFAR-10 Batch 1:  Loss:     0.1405 Accuracy: 0.592200\n",
      "Epoch 30, CIFAR-10 Batch 1:  Loss:     0.0882 Accuracy: 0.585600\n"
     ]
    }
   ],
   "source": [
    "\"\"\"\n",
    "DON'T MODIFY ANYTHING IN THIS CELL\n",
    "\"\"\"\n",
    "print('Checking the Training on a Single Batch...')\n",
    "with tf.Session() as sess:\n",
    "    # Initializing the variables\n",
    "    sess.run(tf.global_variables_initializer())\n",
    "    \n",
    "    # Training cycle\n",
    "    for epoch in range(epochs):\n",
    "        batch_i = 1\n",
    "        for batch_features, batch_labels in helper.load_preprocess_training_batch(batch_i, batch_size):\n",
    "            train_neural_network(sess, optimizer, keep_probability, batch_features, batch_labels)\n",
    "        print('Epoch {:>2}, CIFAR-10 Batch {}:  '.format(epoch + 1, batch_i), end='')\n",
    "        print_stats(sess, batch_features, batch_labels, cost, accuracy)"
   ]
  },
  {
   "cell_type": "markdown",
   "metadata": {},
   "source": [
    "### Fully Train the Model\n",
    "Now that you got a good accuracy with a single CIFAR-10 batch, try it with all five batches."
   ]
  },
  {
   "cell_type": "code",
   "execution_count": 45,
   "metadata": {},
   "outputs": [
    {
     "name": "stdout",
     "output_type": "stream",
     "text": [
      "Training...\n",
      "Epoch  1, CIFAR-10 Batch 1:  Loss:     2.2250 Accuracy: 0.259600\n",
      "Epoch  1, CIFAR-10 Batch 2:  Loss:     1.9228 Accuracy: 0.345000\n",
      "Epoch  1, CIFAR-10 Batch 3:  Loss:     1.5864 Accuracy: 0.382000\n",
      "Epoch  1, CIFAR-10 Batch 4:  Loss:     1.6765 Accuracy: 0.363800\n",
      "Epoch  1, CIFAR-10 Batch 5:  Loss:     1.5746 Accuracy: 0.451200\n",
      "Epoch  2, CIFAR-10 Batch 1:  Loss:     1.6037 Accuracy: 0.468600\n",
      "Epoch  2, CIFAR-10 Batch 2:  Loss:     1.4879 Accuracy: 0.450400\n",
      "Epoch  2, CIFAR-10 Batch 3:  Loss:     1.2141 Accuracy: 0.497000\n",
      "Epoch  2, CIFAR-10 Batch 4:  Loss:     1.3315 Accuracy: 0.519600\n",
      "Epoch  2, CIFAR-10 Batch 5:  Loss:     1.3232 Accuracy: 0.515800\n",
      "Epoch  3, CIFAR-10 Batch 1:  Loss:     1.2821 Accuracy: 0.546200\n",
      "Epoch  3, CIFAR-10 Batch 2:  Loss:     1.2914 Accuracy: 0.513400\n",
      "Epoch  3, CIFAR-10 Batch 3:  Loss:     1.0602 Accuracy: 0.516400\n",
      "Epoch  3, CIFAR-10 Batch 4:  Loss:     1.1828 Accuracy: 0.517200\n",
      "Epoch  3, CIFAR-10 Batch 5:  Loss:     1.1178 Accuracy: 0.553400\n",
      "Epoch  4, CIFAR-10 Batch 1:  Loss:     1.0758 Accuracy: 0.562400\n",
      "Epoch  4, CIFAR-10 Batch 2:  Loss:     1.0055 Accuracy: 0.579600\n",
      "Epoch  4, CIFAR-10 Batch 3:  Loss:     0.8065 Accuracy: 0.584000\n",
      "Epoch  4, CIFAR-10 Batch 4:  Loss:     0.9869 Accuracy: 0.589200\n",
      "Epoch  4, CIFAR-10 Batch 5:  Loss:     0.9551 Accuracy: 0.581200\n",
      "Epoch  5, CIFAR-10 Batch 1:  Loss:     0.8966 Accuracy: 0.602400\n",
      "Epoch  5, CIFAR-10 Batch 2:  Loss:     0.8226 Accuracy: 0.607400\n",
      "Epoch  5, CIFAR-10 Batch 3:  Loss:     0.6590 Accuracy: 0.607400\n",
      "Epoch  5, CIFAR-10 Batch 4:  Loss:     0.9394 Accuracy: 0.597400\n",
      "Epoch  5, CIFAR-10 Batch 5:  Loss:     0.7775 Accuracy: 0.616800\n",
      "Epoch  6, CIFAR-10 Batch 1:  Loss:     0.7640 Accuracy: 0.619800\n",
      "Epoch  6, CIFAR-10 Batch 2:  Loss:     0.7009 Accuracy: 0.627800\n",
      "Epoch  6, CIFAR-10 Batch 3:  Loss:     0.5064 Accuracy: 0.626800\n",
      "Epoch  6, CIFAR-10 Batch 4:  Loss:     0.6817 Accuracy: 0.630600\n",
      "Epoch  6, CIFAR-10 Batch 5:  Loss:     0.6209 Accuracy: 0.637200\n",
      "Epoch  7, CIFAR-10 Batch 1:  Loss:     0.6421 Accuracy: 0.648600\n",
      "Epoch  7, CIFAR-10 Batch 2:  Loss:     0.5897 Accuracy: 0.650800\n",
      "Epoch  7, CIFAR-10 Batch 3:  Loss:     0.4632 Accuracy: 0.642600\n",
      "Epoch  7, CIFAR-10 Batch 4:  Loss:     0.6372 Accuracy: 0.638200\n",
      "Epoch  7, CIFAR-10 Batch 5:  Loss:     0.4596 Accuracy: 0.652200\n",
      "Epoch  8, CIFAR-10 Batch 1:  Loss:     0.5877 Accuracy: 0.655200\n",
      "Epoch  8, CIFAR-10 Batch 2:  Loss:     0.4415 Accuracy: 0.665800\n",
      "Epoch  8, CIFAR-10 Batch 3:  Loss:     0.3490 Accuracy: 0.665400\n",
      "Epoch  8, CIFAR-10 Batch 4:  Loss:     0.4733 Accuracy: 0.657400\n",
      "Epoch  8, CIFAR-10 Batch 5:  Loss:     0.4038 Accuracy: 0.647800\n",
      "Epoch  9, CIFAR-10 Batch 1:  Loss:     0.4712 Accuracy: 0.670800\n",
      "Epoch  9, CIFAR-10 Batch 2:  Loss:     0.3483 Accuracy: 0.685200\n",
      "Epoch  9, CIFAR-10 Batch 3:  Loss:     0.3091 Accuracy: 0.655000\n",
      "Epoch  9, CIFAR-10 Batch 4:  Loss:     0.4251 Accuracy: 0.666800\n",
      "Epoch  9, CIFAR-10 Batch 5:  Loss:     0.3130 Accuracy: 0.665200\n",
      "Epoch 10, CIFAR-10 Batch 1:  Loss:     0.4089 Accuracy: 0.640000\n",
      "Epoch 10, CIFAR-10 Batch 2:  Loss:     0.3026 Accuracy: 0.665600\n",
      "Epoch 10, CIFAR-10 Batch 3:  Loss:     0.3323 Accuracy: 0.637400\n",
      "Epoch 10, CIFAR-10 Batch 4:  Loss:     0.3744 Accuracy: 0.671600\n",
      "Epoch 10, CIFAR-10 Batch 5:  Loss:     0.2304 Accuracy: 0.685000\n",
      "Epoch 11, CIFAR-10 Batch 1:  Loss:     0.2683 Accuracy: 0.678600\n",
      "Epoch 11, CIFAR-10 Batch 2:  Loss:     0.2154 Accuracy: 0.682400\n",
      "Epoch 11, CIFAR-10 Batch 3:  Loss:     0.2397 Accuracy: 0.659400\n",
      "Epoch 11, CIFAR-10 Batch 4:  Loss:     0.3038 Accuracy: 0.673800\n",
      "Epoch 11, CIFAR-10 Batch 5:  Loss:     0.2301 Accuracy: 0.683000\n",
      "Epoch 12, CIFAR-10 Batch 1:  Loss:     0.2081 Accuracy: 0.690800\n",
      "Epoch 12, CIFAR-10 Batch 2:  Loss:     0.1610 Accuracy: 0.668400\n",
      "Epoch 12, CIFAR-10 Batch 3:  Loss:     0.1621 Accuracy: 0.681400\n",
      "Epoch 12, CIFAR-10 Batch 4:  Loss:     0.2077 Accuracy: 0.684000\n",
      "Epoch 12, CIFAR-10 Batch 5:  Loss:     0.1807 Accuracy: 0.684000\n",
      "Epoch 13, CIFAR-10 Batch 1:  Loss:     0.1634 Accuracy: 0.692800\n",
      "Epoch 13, CIFAR-10 Batch 2:  Loss:     0.1362 Accuracy: 0.675600\n",
      "Epoch 13, CIFAR-10 Batch 3:  Loss:     0.1704 Accuracy: 0.667800\n",
      "Epoch 13, CIFAR-10 Batch 4:  Loss:     0.2032 Accuracy: 0.688400\n",
      "Epoch 13, CIFAR-10 Batch 5:  Loss:     0.1136 Accuracy: 0.701200\n",
      "Epoch 14, CIFAR-10 Batch 1:  Loss:     0.1918 Accuracy: 0.673800\n",
      "Epoch 14, CIFAR-10 Batch 2:  Loss:     0.0902 Accuracy: 0.691200\n",
      "Epoch 14, CIFAR-10 Batch 3:  Loss:     0.1355 Accuracy: 0.682600\n",
      "Epoch 14, CIFAR-10 Batch 4:  Loss:     0.1570 Accuracy: 0.696400\n",
      "Epoch 14, CIFAR-10 Batch 5:  Loss:     0.0997 Accuracy: 0.690800\n",
      "Epoch 15, CIFAR-10 Batch 1:  Loss:     0.1390 Accuracy: 0.697800\n",
      "Epoch 15, CIFAR-10 Batch 2:  Loss:     0.1255 Accuracy: 0.691600\n",
      "Epoch 15, CIFAR-10 Batch 3:  Loss:     0.1503 Accuracy: 0.677000\n",
      "Epoch 15, CIFAR-10 Batch 4:  Loss:     0.1160 Accuracy: 0.694000\n",
      "Epoch 15, CIFAR-10 Batch 5:  Loss:     0.0704 Accuracy: 0.704200\n",
      "Epoch 16, CIFAR-10 Batch 1:  Loss:     0.0964 Accuracy: 0.680400\n",
      "Epoch 16, CIFAR-10 Batch 2:  Loss:     0.0953 Accuracy: 0.696000\n",
      "Epoch 16, CIFAR-10 Batch 3:  Loss:     0.1198 Accuracy: 0.687200\n",
      "Epoch 16, CIFAR-10 Batch 4:  Loss:     0.1123 Accuracy: 0.704600\n",
      "Epoch 16, CIFAR-10 Batch 5:  Loss:     0.0557 Accuracy: 0.695400\n",
      "Epoch 17, CIFAR-10 Batch 1:  Loss:     0.0569 Accuracy: 0.696400\n",
      "Epoch 17, CIFAR-10 Batch 2:  Loss:     0.1043 Accuracy: 0.685200\n",
      "Epoch 17, CIFAR-10 Batch 3:  Loss:     0.0730 Accuracy: 0.683800\n",
      "Epoch 17, CIFAR-10 Batch 4:  Loss:     0.0832 Accuracy: 0.706400\n",
      "Epoch 17, CIFAR-10 Batch 5:  Loss:     0.0589 Accuracy: 0.683000\n",
      "Epoch 18, CIFAR-10 Batch 1:  Loss:     0.0435 Accuracy: 0.691000\n",
      "Epoch 18, CIFAR-10 Batch 2:  Loss:     0.0649 Accuracy: 0.679400\n",
      "Epoch 18, CIFAR-10 Batch 3:  Loss:     0.0465 Accuracy: 0.686800\n",
      "Epoch 18, CIFAR-10 Batch 4:  Loss:     0.0633 Accuracy: 0.714600\n",
      "Epoch 18, CIFAR-10 Batch 5:  Loss:     0.0479 Accuracy: 0.686600\n",
      "Epoch 19, CIFAR-10 Batch 1:  Loss:     0.0406 Accuracy: 0.699800\n",
      "Epoch 19, CIFAR-10 Batch 2:  Loss:     0.0744 Accuracy: 0.682200\n",
      "Epoch 19, CIFAR-10 Batch 3:  Loss:     0.0390 Accuracy: 0.694600\n",
      "Epoch 19, CIFAR-10 Batch 4:  Loss:     0.0377 Accuracy: 0.704800\n",
      "Epoch 19, CIFAR-10 Batch 5:  Loss:     0.0365 Accuracy: 0.689000\n",
      "Epoch 20, CIFAR-10 Batch 1:  Loss:     0.0516 Accuracy: 0.696800\n",
      "Epoch 20, CIFAR-10 Batch 2:  Loss:     0.0747 Accuracy: 0.680200\n",
      "Epoch 20, CIFAR-10 Batch 3:  Loss:     0.0349 Accuracy: 0.699600\n",
      "Epoch 20, CIFAR-10 Batch 4:  Loss:     0.0375 Accuracy: 0.698600\n",
      "Epoch 20, CIFAR-10 Batch 5:  Loss:     0.0204 Accuracy: 0.693600\n",
      "Epoch 21, CIFAR-10 Batch 1:  Loss:     0.0491 Accuracy: 0.695600\n",
      "Epoch 21, CIFAR-10 Batch 2:  Loss:     0.0402 Accuracy: 0.684600\n",
      "Epoch 21, CIFAR-10 Batch 3:  Loss:     0.0289 Accuracy: 0.694800\n",
      "Epoch 21, CIFAR-10 Batch 4:  Loss:     0.0308 Accuracy: 0.702400\n",
      "Epoch 21, CIFAR-10 Batch 5:  Loss:     0.0069 Accuracy: 0.707600\n",
      "Epoch 22, CIFAR-10 Batch 1:  Loss:     0.0348 Accuracy: 0.705200\n",
      "Epoch 22, CIFAR-10 Batch 2:  Loss:     0.0231 Accuracy: 0.704800\n",
      "Epoch 22, CIFAR-10 Batch 3:  Loss:     0.0194 Accuracy: 0.696800\n",
      "Epoch 22, CIFAR-10 Batch 4:  Loss:     0.0316 Accuracy: 0.697400\n",
      "Epoch 22, CIFAR-10 Batch 5:  Loss:     0.0086 Accuracy: 0.707200\n",
      "Epoch 23, CIFAR-10 Batch 1:  Loss:     0.0353 Accuracy: 0.692400\n",
      "Epoch 23, CIFAR-10 Batch 2:  Loss:     0.0265 Accuracy: 0.692400\n",
      "Epoch 23, CIFAR-10 Batch 3:  Loss:     0.0109 Accuracy: 0.697000\n",
      "Epoch 23, CIFAR-10 Batch 4:  Loss:     0.0296 Accuracy: 0.685800\n",
      "Epoch 23, CIFAR-10 Batch 5:  Loss:     0.0110 Accuracy: 0.707600\n",
      "Epoch 24, CIFAR-10 Batch 1:  Loss:     0.0685 Accuracy: 0.691200\n",
      "Epoch 24, CIFAR-10 Batch 2:  Loss:     0.0150 Accuracy: 0.693600\n",
      "Epoch 24, CIFAR-10 Batch 3:  Loss:     0.0184 Accuracy: 0.685800\n",
      "Epoch 24, CIFAR-10 Batch 4:  Loss:     0.0162 Accuracy: 0.697800\n",
      "Epoch 24, CIFAR-10 Batch 5:  Loss:     0.0161 Accuracy: 0.697200\n",
      "Epoch 25, CIFAR-10 Batch 1:  Loss:     0.1476 Accuracy: 0.642000\n",
      "Epoch 25, CIFAR-10 Batch 2:  Loss:     0.0223 Accuracy: 0.697800\n",
      "Epoch 25, CIFAR-10 Batch 3:  Loss:     0.0106 Accuracy: 0.694600\n",
      "Epoch 25, CIFAR-10 Batch 4:  Loss:     0.0408 Accuracy: 0.684400\n",
      "Epoch 25, CIFAR-10 Batch 5:  Loss:     0.0055 Accuracy: 0.694400\n",
      "Epoch 26, CIFAR-10 Batch 1:  Loss:     0.0245 Accuracy: 0.661000\n"
     ]
    },
    {
     "name": "stdout",
     "output_type": "stream",
     "text": [
      "Epoch 26, CIFAR-10 Batch 2:  Loss:     0.0150 Accuracy: 0.698200\n",
      "Epoch 26, CIFAR-10 Batch 3:  Loss:     0.0067 Accuracy: 0.707200\n",
      "Epoch 26, CIFAR-10 Batch 4:  Loss:     0.0167 Accuracy: 0.678400\n",
      "Epoch 26, CIFAR-10 Batch 5:  Loss:     0.0041 Accuracy: 0.704400\n",
      "Epoch 27, CIFAR-10 Batch 1:  Loss:     0.0166 Accuracy: 0.676800\n",
      "Epoch 27, CIFAR-10 Batch 2:  Loss:     0.0147 Accuracy: 0.712800\n",
      "Epoch 27, CIFAR-10 Batch 3:  Loss:     0.0038 Accuracy: 0.710200\n",
      "Epoch 27, CIFAR-10 Batch 4:  Loss:     0.0111 Accuracy: 0.694800\n",
      "Epoch 27, CIFAR-10 Batch 5:  Loss:     0.0080 Accuracy: 0.703600\n",
      "Epoch 28, CIFAR-10 Batch 1:  Loss:     0.0200 Accuracy: 0.690000\n",
      "Epoch 28, CIFAR-10 Batch 2:  Loss:     0.0109 Accuracy: 0.711800\n",
      "Epoch 28, CIFAR-10 Batch 3:  Loss:     0.0025 Accuracy: 0.707200\n",
      "Epoch 28, CIFAR-10 Batch 4:  Loss:     0.0048 Accuracy: 0.675600\n",
      "Epoch 28, CIFAR-10 Batch 5:  Loss:     0.0027 Accuracy: 0.705000\n",
      "Epoch 29, CIFAR-10 Batch 1:  Loss:     0.0023 Accuracy: 0.699400\n",
      "Epoch 29, CIFAR-10 Batch 2:  Loss:     0.0180 Accuracy: 0.694000\n",
      "Epoch 29, CIFAR-10 Batch 3:  Loss:     0.0063 Accuracy: 0.697000\n",
      "Epoch 29, CIFAR-10 Batch 4:  Loss:     0.0046 Accuracy: 0.684600\n",
      "Epoch 29, CIFAR-10 Batch 5:  Loss:     0.0031 Accuracy: 0.705400\n",
      "Epoch 30, CIFAR-10 Batch 1:  Loss:     0.0019 Accuracy: 0.687200\n",
      "Epoch 30, CIFAR-10 Batch 2:  Loss:     0.0088 Accuracy: 0.707200\n",
      "Epoch 30, CIFAR-10 Batch 3:  Loss:     0.0018 Accuracy: 0.695200\n",
      "Epoch 30, CIFAR-10 Batch 4:  Loss:     0.0049 Accuracy: 0.677000\n",
      "Epoch 30, CIFAR-10 Batch 5:  Loss:     0.0063 Accuracy: 0.691600\n"
     ]
    }
   ],
   "source": [
    "\"\"\"\n",
    "DON'T MODIFY ANYTHING IN THIS CELL\n",
    "\"\"\"\n",
    "save_model_path = './image_classification'\n",
    "\n",
    "print('Training...')\n",
    "with tf.Session() as sess:\n",
    "    # Initializing the variables\n",
    "    sess.run(tf.global_variables_initializer())\n",
    "    \n",
    "    # Training cycle\n",
    "    for epoch in range(epochs):\n",
    "        # Loop over all batches\n",
    "        n_batches = 5\n",
    "        for batch_i in range(1, n_batches + 1):\n",
    "            for batch_features, batch_labels in helper.load_preprocess_training_batch(batch_i, batch_size):\n",
    "                train_neural_network(sess, optimizer, keep_probability, batch_features, batch_labels)\n",
    "            print('Epoch {:>2}, CIFAR-10 Batch {}:  '.format(epoch + 1, batch_i), end='')\n",
    "            print_stats(sess, batch_features, batch_labels, cost, accuracy)\n",
    "            \n",
    "    # Save Model\n",
    "    saver = tf.train.Saver()\n",
    "    save_path = saver.save(sess, save_model_path)"
   ]
  },
  {
   "cell_type": "markdown",
   "metadata": {},
   "source": [
    "# Checkpoint\n",
    "The model has been saved to disk.\n",
    "## Test Model\n",
    "Test your model against the test dataset.  This will be your final accuracy. You should have an accuracy greater than 50%. If you don't, keep tweaking the model architecture and parameters."
   ]
  },
  {
   "cell_type": "code",
   "execution_count": 46,
   "metadata": {},
   "outputs": [
    {
     "name": "stdout",
     "output_type": "stream",
     "text": [
      "Testing Accuracy: 0.68330078125\n",
      "\n"
     ]
    },
    {
     "data": {
      "image/png": "[encoded data removed]",
      "text/plain": [
       "<matplotlib.figure.Figure at 0x117e3f0f0>"
      ]
     },
     "metadata": {
      "image/png": {
       "height": 319,
       "width": 355
      }
     },
     "output_type": "display_data"
    }
   ],
   "source": [
    "\"\"\"\n",
    "DON'T MODIFY ANYTHING IN THIS CELL\n",
    "\"\"\"\n",
    "%matplotlib inline\n",
    "%config InlineBackend.figure_format = 'retina'\n",
    "\n",
    "import tensorflow as tf\n",
    "import pickle\n",
    "import helper\n",
    "import random\n",
    "\n",
    "# Set batch size if not already set\n",
    "try:\n",
    "    if batch_size:\n",
    "        pass\n",
    "except NameError:\n",
    "    batch_size = 64\n",
    "\n",
    "save_model_path = './image_classification'\n",
    "n_samples = 4\n",
    "top_n_predictions = 3\n",
    "\n",
    "def test_model():\n",
    "    \"\"\"\n",
    "    Test the saved model against the test dataset\n",
    "    \"\"\"\n",
    "\n",
    "    test_features, test_labels = pickle.load(open('preprocess_test.p', mode='rb'))\n",
    "    loaded_graph = tf.Graph()\n",
    "\n",
    "    with tf.Session(graph=loaded_graph) as sess:\n",
    "        # Load model\n",
    "        loader = tf.train.import_meta_graph(save_model_path + '.meta')\n",
    "        loader.restore(sess, save_model_path)\n",
    "\n",
    "        # Get Tensors from loaded model\n",
    "        loaded_x = loaded_graph.get_tensor_by_name('x:0')\n",
    "        loaded_y = loaded_graph.get_tensor_by_name('y:0')\n",
    "        loaded_keep_prob = loaded_graph.get_tensor_by_name('keep_prob:0')\n",
    "        loaded_logits = loaded_graph.get_tensor_by_name('logits:0')\n",
    "        loaded_acc = loaded_graph.get_tensor_by_name('accuracy:0')\n",
    "        \n",
    "        # Get accuracy in batches for memory limitations\n",
    "        test_batch_acc_total = 0\n",
    "        test_batch_count = 0\n",
    "        \n",
    "        for test_feature_batch, test_label_batch in helper.batch_features_labels(test_features, test_labels, batch_size):\n",
    "            test_batch_acc_total += sess.run(\n",
    "                loaded_acc,\n",
    "                feed_dict={loaded_x: test_feature_batch, loaded_y: test_label_batch, loaded_keep_prob: 1.0})\n",
    "            test_batch_count += 1\n",
    "\n",
    "        print('Testing Accuracy: {}\\n'.format(test_batch_acc_total/test_batch_count))\n",
    "\n",
    "        # Print Random Samples\n",
    "        random_test_features, random_test_labels = tuple(zip(*random.sample(list(zip(test_features, test_labels)), n_samples)))\n",
    "        random_test_predictions = sess.run(\n",
    "            tf.nn.top_k(tf.nn.softmax(loaded_logits), top_n_predictions),\n",
    "            feed_dict={loaded_x: random_test_features, loaded_y: random_test_labels, loaded_keep_prob: 1.0})\n",
    "        helper.display_image_predictions(random_test_features, random_test_labels, random_test_predictions)\n",
    "\n",
    "\n",
    "test_model()"
   ]
  },
  {
   "cell_type": "markdown",
   "metadata": {},
   "source": [
    "## Why 50-80% Accuracy?\n",
    "You might be wondering why you can't get an accuracy any higher. First things first, 50% isn't bad for a simple CNN.  Pure guessing would get you 10% accuracy. However, you might notice people are getting scores [well above 80%](http://rodrigob.github.io/are_we_there_yet/build/classification_datasets_results.html#43494641522d3130).  That's because we haven't taught you all there is to know about neural networks. We still need to cover a few more techniques.\n",
    "## Submitting This Project\n",
    "When submitting this project, make sure to run all the cells before saving the notebook.  Save the notebook file as \"dlnd_image_classification.ipynb\" and save it as a HTML file under \"File\" -> \"Download as\".  Include the \"helper.py\" and \"problem_unittests.py\" files in your submission."
   ]
  }
 ],
 "metadata": {
  "kernelspec": {
   "display_name": "Python 3",
   "language": "python",
   "name": "python3"
  },
  "language_info": {
   "codemirror_mode": {
    "name": "ipython",
    "version": 3
   },
   "file_extension": ".py",
   "mimetype": "text/x-python",
   "name": "python",
   "nbconvert_exporter": "python",
   "pygments_lexer": "ipython3",
   "version": "3.6.0"
  }
 },
 "nbformat": 4,
 "nbformat_minor": 1
}
